{
 "cells": [
  {
   "cell_type": "code",
   "execution_count": 17,
   "id": "0966b0ba-9d86-445c-a78d-8fd47328547c",
   "metadata": {},
   "outputs": [],
   "source": [
    "import pandas as pd\n",
    "from torchvision.datasets import ImageFolder\n",
    "import re\n",
    "\n",
    "data_path = '/ix/akovashka/arr159/imagenet-r' \n",
    "dataset = ImageFolder(root=data_path)\n",
    "\n",
    "# extract relative path\n",
    "img_ids = ['/'.join(path.split('/')[-2:]) for path, _ in dataset.samples]\n",
    "\n",
    "# extract attributes\n",
    "pattern = re.compile(r\"([^/]+)_(\\d+)\\.jpg$\")\n",
    "\n",
    "attributes=[]\n",
    "for path, _ in dataset.samples:\n",
    "    match = pattern.search(path)\n",
    "    if match:\n",
    "        transformation_type = match.group(1)\n",
    "    else:\n",
    "        raise Exception\n",
    "    attributes.append(transformation_type)\n",
    "        \n",
    "ground_truth_classes = [label for _, label in dataset.samples]\n",
    "gt_codes = [path.split('/')[-2] for path, _ in dataset.samples]\n",
    "\n",
    "df = pd.DataFrame({\n",
    "    'img_id': img_ids,\n",
    "    'attribute': attributes,\n",
    "    'gt_code': gt_codes,\n",
    "    'gt': ground_truth_classes\n",
    "})"
   ]
  },
  {
   "cell_type": "code",
   "execution_count": 7,
   "id": "81891d20-1771-4704-b8d8-8de567795ec9",
   "metadata": {},
   "outputs": [
    {
     "data": {
      "text/plain": [
       "array(['art', 'cartoon', 'deviantart', 'embroidery', 'graffiti',\n",
       "       'graphic', 'misc', 'origami', 'painting', 'sculpture', 'sketch',\n",
       "       'sticker', 'toy', 'videogame', 'tattoo'], dtype=object)"
      ]
     },
     "execution_count": 7,
     "metadata": {},
     "output_type": "execute_result"
    }
   ],
   "source": [
    "df['attribute'].unique()"
   ]
  },
  {
   "cell_type": "code",
   "execution_count": 14,
   "id": "910f3fe1-8adb-49fa-ac65-6c7dcffdd1e0",
   "metadata": {},
   "outputs": [],
   "source": [
    "from os import path\n",
    "\n",
    "mapping_raw = open(path.join(data_path, 'README.txt')).readlines()\n",
    "mapping = {line.split()[0]: line.split()[1].rstrip() for line in mapping_raw[13:]}"
   ]
  },
  {
   "cell_type": "code",
   "execution_count": 19,
   "id": "dd31d380-0df0-43f3-bb1d-ff22ff0fca53",
   "metadata": {
    "scrolled": true
   },
   "outputs": [],
   "source": [
    "df.to_csv('mock_data/dataset.csv')"
   ]
  },
  {
   "cell_type": "code",
   "execution_count": 22,
   "id": "90113130-7f6c-4952-a35a-7c7bcaaa712b",
   "metadata": {},
   "outputs": [],
   "source": [
    "import json\n",
    "with open('mock_data/mapping.json', 'w') as json_file:\n",
    "    json.dump(mapping, json_file, indent=4)"
   ]
  },
  {
   "cell_type": "code",
   "execution_count": null,
   "id": "bae30d33-56e0-426c-b7ee-0ba5d859013a",
   "metadata": {},
   "outputs": [],
   "source": []
  }
 ],
 "metadata": {
  "kernelspec": {
   "display_name": "Python 3 (ipykernel)",
   "language": "python",
   "name": "python3"
  },
  "language_info": {
   "codemirror_mode": {
    "name": "ipython",
    "version": 3
   },
   "file_extension": ".py",
   "mimetype": "text/x-python",
   "name": "python",
   "nbconvert_exporter": "python",
   "pygments_lexer": "ipython3",
   "version": "3.11.9"
  }
 },
 "nbformat": 4,
 "nbformat_minor": 5
}
