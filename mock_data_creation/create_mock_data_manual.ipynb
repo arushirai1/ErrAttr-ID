{
 "cells": [
  {
   "cell_type": "code",
   "execution_count": 17,
   "id": "0966b0ba-9d86-445c-a78d-8fd47328547c",
   "metadata": {},
   "outputs": [],
   "source": [
    "import pandas as pd\n",
    "from torchvision.datasets import ImageFolder\n",
    "import re\n",
    "\n",
    "data_path = '/ix/akovashka/arr159/imagenet-r' \n",
    "dataset = ImageFolder(root=data_path)\n",
    "\n",
    "# extract relative path\n",
    "img_ids = ['/'.join(path.split('/')[-2:]) for path, _ in dataset.samples]\n",
    "\n",
    "# extract attributes\n",
    "pattern = re.compile(r\"([^/]+)_(\\d+)\\.jpg$\")\n",
    "\n",
    "attributes=[]\n",
    "for path, _ in dataset.samples:\n",
    "    match = pattern.search(path)\n",
    "    if match:\n",
    "        transformation_type = match.group(1)\n",
    "    else:\n",
    "        raise Exception\n",
    "    attributes.append(transformation_type)\n",
    "        \n",
    "ground_truth_classes = [label for _, label in dataset.samples]\n",
    "gt_codes = [path.split('/')[-2] for path, _ in dataset.samples]\n",
    "\n",
    "df = pd.DataFrame({\n",
    "    'img_id': img_ids,\n",
    "    'attribute': attributes,\n",
    "    'gt_code': gt_codes,\n",
    "    'gt': ground_truth_classes\n",
    "})"
   ]
  },
  {
   "cell_type": "code",
   "execution_count": 7,
   "id": "81891d20-1771-4704-b8d8-8de567795ec9",
   "metadata": {},
   "outputs": [
    {
     "data": {
      "text/plain": [
       "array(['art', 'cartoon', 'deviantart', 'embroidery', 'graffiti',\n",
       "       'graphic', 'misc', 'origami', 'painting', 'sculpture', 'sketch',\n",
       "       'sticker', 'toy', 'videogame', 'tattoo'], dtype=object)"
      ]
     },
     "execution_count": 7,
     "metadata": {},
     "output_type": "execute_result"
    }
   ],
   "source": [
    "df['attribute'].unique()"
   ]
  },
  {
   "cell_type": "code",
   "execution_count": 14,
   "id": "910f3fe1-8adb-49fa-ac65-6c7dcffdd1e0",
   "metadata": {},
   "outputs": [],
   "source": [
    "from os import path\n",
    "\n",
    "mapping_raw = open(path.join(data_path, 'README.txt')).readlines()\n",
    "mapping = {line.split()[0]: line.split()[1].rstrip() for line in mapping_raw[13:]}"
   ]
  },
  {
   "cell_type": "code",
   "execution_count": 19,
   "id": "dd31d380-0df0-43f3-bb1d-ff22ff0fca53",
   "metadata": {
    "scrolled": true
   },
   "outputs": [],
   "source": [
    "df.to_csv('mock_data/dataset.csv')"
   ]
  },
  {
   "cell_type": "code",
   "execution_count": 22,
   "id": "90113130-7f6c-4952-a35a-7c7bcaaa712b",
   "metadata": {},
   "outputs": [],
   "source": [
    "import json\n",
    "with open('mock_data/mapping.json', 'w') as json_file:\n",
    "    json.dump(mapping, json_file, indent=4)"
   ]
  },
  {
   "cell_type": "markdown",
   "id": "ebaccaf2-031a-4702-ad0c-a677fc0af17d",
   "metadata": {},
   "source": [
    "# Create Pred Splits"
   ]
  },
  {
   "cell_type": "code",
   "execution_count": 4,
   "id": "bae30d33-56e0-426c-b7ee-0ba5d859013a",
   "metadata": {},
   "outputs": [],
   "source": [
    "import random\n",
    "\n",
    "def corruption_fn(df, condition_fn, corruption_matrix, corruption_prob):\n",
    "    predictions = []\n",
    "    for _, row in df.iterrows():\n",
    "        if condition_fn(row):\n",
    "            if random.random() < corruption_prob:\n",
    "                sampled_class = random.choices(list(range(len(corruption_matrix[row['gt']]))), weights=corruption_matrix[row['gt']], k=1)[0] \n",
    "                predictions.append(sampled_class)\n",
    "            else:\n",
    "                predictions.append(row['pred'])\n",
    "        else:\n",
    "            predictions.append(row['pred']) # keep it the same\n",
    "    return predictions"
   ]
  },
  {
   "cell_type": "code",
   "execution_count": 35,
   "id": "d48d96e2-6c3d-433e-a327-31d1376175de",
   "metadata": {},
   "outputs": [],
   "source": [
    "import numpy as np\n",
    "condition = lambda row: True\n",
    "df['pred'] = df['gt']\n",
    "corruption_matrix = np.ones((200,200)) # these are the weights for class change\n",
    "# set diagonal to zero\n",
    "np.fill_diagonal(corruption_matrix, 0)\n",
    "\n",
    "predictions = corruption_fn(df, condition, corruption_matrix, corruption_prob=0.25)\n",
    "with open('mock_data/pred_splits/split_0.txt', 'w') as f:\n",
    "    for pred in predictions:\n",
    "        f.write(f'{pred}\\n')"
   ]
  },
  {
   "cell_type": "code",
   "execution_count": 44,
   "id": "8b077743-d3bb-4ba7-b24b-4927d481deac",
   "metadata": {},
   "outputs": [],
   "source": [
    "condition = lambda row: row['attribute']=='sketch' and mapping[row['gt_code']] == 'goose'\n",
    "df['pred'] = df['gt']\n",
    "corruption_matrix = np.ones((200,200)) # these are the weights for class change\n",
    "# set diagonal to zero\n",
    "np.fill_diagonal(corruption_matrix, 0)\n",
    "\n",
    "predictions = corruption_fn(df, condition, corruption_matrix, corruption_prob=0.6)\n",
    "df['pred'] = predictions\n",
    "\n",
    "condition = lambda row: not (row['attribute']=='sketch' and mapping[row['gt_code']] == 'goose')\n",
    "corruption_matrix = np.ones((200,200)) # these are the weights for class change\n",
    "# set diagonal to zero\n",
    "np.fill_diagonal(corruption_matrix, 0)\n",
    "\n",
    "predictions = corruption_fn(df, condition, corruption_matrix, corruption_prob=0.25)"
   ]
  },
  {
   "cell_type": "code",
   "execution_count": 45,
   "id": "ef7d1be0-6ec2-44b7-a7ac-de62ffefef82",
   "metadata": {},
   "outputs": [
    {
     "data": {
      "text/plain": [
       "0.25016666666666665"
      ]
     },
     "execution_count": 45,
     "metadata": {},
     "output_type": "execute_result"
    }
   ],
   "source": [
    "(np.array(predictions) != df['gt'].values).mean()"
   ]
  },
  {
   "cell_type": "code",
   "execution_count": 46,
   "id": "1debaa6a-dbf6-426f-9817-10237289b7b6",
   "metadata": {},
   "outputs": [],
   "source": [
    "\n",
    "with open('mock_data/pred_splits/split_1.txt', 'w') as f:\n",
    "    for pred in predictions:\n",
    "        f.write(f'{pred}\\n')"
   ]
  },
  {
   "cell_type": "code",
   "execution_count": 53,
   "id": "341588ab-a72f-477d-99c5-6b7b3793c9bc",
   "metadata": {},
   "outputs": [],
   "source": [
    "gt_code2idx = dict(df[['gt_code', 'gt']].drop_duplicates().values)\n",
    "class_name2idx = {mapping[gt_code]: idx for gt_code, idx in gt_code2idx.items()}"
   ]
  },
  {
   "cell_type": "code",
   "execution_count": 54,
   "id": "1612e839-d156-4d68-b11d-f0b90d8565af",
   "metadata": {},
   "outputs": [],
   "source": [
    "condition = lambda row: row['attribute']=='sketch' and mapping[row['gt_code']] == 'orangutan'\n",
    "df['pred'] = df['gt']\n",
    "corruption_matrix = np.ones((200,200)) # these are the weights for class change\n",
    "# set diagonal to zero\n",
    "np.fill_diagonal(corruption_matrix, 0)\n",
    "corruption_matrix[class_name2idx['orangutan']][class_name2idx['chimpanzee']]=50\n",
    "\n",
    "predictions = corruption_fn(df, condition, corruption_matrix, corruption_prob=0.6)\n",
    "df['pred'] = predictions\n",
    "\n",
    "condition2 = lambda row: not condition(row)\n",
    "corruption_matrix = np.ones((200,200)) # these are the weights for class change\n",
    "# set diagonal to zero\n",
    "np.fill_diagonal(corruption_matrix, 0)\n",
    "\n",
    "predictions = corruption_fn(df, condition2, corruption_matrix, corruption_prob=0.25)"
   ]
  },
  {
   "cell_type": "code",
   "execution_count": 55,
   "id": "a98e65d8-ea67-4aa9-b50b-bb2e5a0023b8",
   "metadata": {},
   "outputs": [
    {
     "data": {
      "text/plain": [
       "0.25216666666666665"
      ]
     },
     "execution_count": 55,
     "metadata": {},
     "output_type": "execute_result"
    }
   ],
   "source": [
    "(np.array(predictions) != df['gt'].values).mean()"
   ]
  },
  {
   "cell_type": "code",
   "execution_count": 56,
   "id": "11aae816-8f19-4b58-b67c-b3120035fb64",
   "metadata": {},
   "outputs": [],
   "source": [
    "with open('mock_data/pred_splits/split_2.txt', 'w') as f:\n",
    "    for pred in predictions:\n",
    "        f.write(f'{pred}\\n')"
   ]
  },
  {
   "cell_type": "markdown",
   "id": "11d927f8-81bf-4e6f-9389-208c7dba501d",
   "metadata": {},
   "source": [
    "# Create Demo GT Class-Based Error Slice Splits"
   ]
  },
  {
   "cell_type": "code",
   "execution_count": 9,
   "id": "8fb1c1ec-c3d9-4912-9ff5-d416a3b74744",
   "metadata": {},
   "outputs": [
    {
     "data": {
      "text/html": [
       "<div>\n",
       "<style scoped>\n",
       "    .dataframe tbody tr th:only-of-type {\n",
       "        vertical-align: middle;\n",
       "    }\n",
       "\n",
       "    .dataframe tbody tr th {\n",
       "        vertical-align: top;\n",
       "    }\n",
       "\n",
       "    .dataframe thead th {\n",
       "        text-align: right;\n",
       "    }\n",
       "</style>\n",
       "<table border=\"1\" class=\"dataframe\">\n",
       "  <thead>\n",
       "    <tr style=\"text-align: right;\">\n",
       "      <th></th>\n",
       "      <th>Unnamed: 0</th>\n",
       "      <th>img_id</th>\n",
       "      <th>attribute</th>\n",
       "      <th>gt_code</th>\n",
       "      <th>gt</th>\n",
       "    </tr>\n",
       "  </thead>\n",
       "  <tbody>\n",
       "    <tr>\n",
       "      <th>0</th>\n",
       "      <td>0</td>\n",
       "      <td>n01443537/art_0.jpg</td>\n",
       "      <td>art</td>\n",
       "      <td>n01443537</td>\n",
       "      <td>0</td>\n",
       "    </tr>\n",
       "    <tr>\n",
       "      <th>1</th>\n",
       "      <td>1</td>\n",
       "      <td>n01443537/art_1.jpg</td>\n",
       "      <td>art</td>\n",
       "      <td>n01443537</td>\n",
       "      <td>0</td>\n",
       "    </tr>\n",
       "    <tr>\n",
       "      <th>2</th>\n",
       "      <td>2</td>\n",
       "      <td>n01443537/art_10.jpg</td>\n",
       "      <td>art</td>\n",
       "      <td>n01443537</td>\n",
       "      <td>0</td>\n",
       "    </tr>\n",
       "    <tr>\n",
       "      <th>3</th>\n",
       "      <td>3</td>\n",
       "      <td>n01443537/art_11.jpg</td>\n",
       "      <td>art</td>\n",
       "      <td>n01443537</td>\n",
       "      <td>0</td>\n",
       "    </tr>\n",
       "    <tr>\n",
       "      <th>4</th>\n",
       "      <td>4</td>\n",
       "      <td>n01443537/art_12.jpg</td>\n",
       "      <td>art</td>\n",
       "      <td>n01443537</td>\n",
       "      <td>0</td>\n",
       "    </tr>\n",
       "  </tbody>\n",
       "</table>\n",
       "</div>"
      ],
      "text/plain": [
       "   Unnamed: 0                img_id attribute    gt_code  gt\n",
       "0           0   n01443537/art_0.jpg       art  n01443537   0\n",
       "1           1   n01443537/art_1.jpg       art  n01443537   0\n",
       "2           2  n01443537/art_10.jpg       art  n01443537   0\n",
       "3           3  n01443537/art_11.jpg       art  n01443537   0\n",
       "4           4  n01443537/art_12.jpg       art  n01443537   0"
      ]
     },
     "execution_count": 9,
     "metadata": {},
     "output_type": "execute_result"
    }
   ],
   "source": [
    "import pandas as pd\n",
    "import numpy as np\n",
    "import json\n",
    "\n",
    "with open('mock_data/mapping.json', 'r') as json_file:\n",
    "    mapping=json.load(json_file)\n",
    "    \n",
    "df = pd.read_csv('mock_data/dataset.csv')\n",
    "df.head()"
   ]
  },
  {
   "cell_type": "code",
   "execution_count": 12,
   "id": "e115561e-1a6f-4b05-b57e-227993a6e093",
   "metadata": {},
   "outputs": [],
   "source": [
    "condition = lambda row: row['attribute']=='sketch' and mapping[row['gt_code']] == 'goose'\n",
    "df['pred'] = df['gt']\n",
    "corruption_matrix = np.ones((200,200)) # these are the weights for class change\n",
    "# set diagonal to zero\n",
    "np.fill_diagonal(corruption_matrix, 0)\n",
    "\n",
    "predictions = corruption_fn(df, condition, corruption_matrix, corruption_prob=1.0)\n",
    "df['pred'] = predictions\n",
    "\n",
    "condition = lambda row: not (row['attribute']=='sketch' and mapping[row['gt_code']] == 'goose')\n",
    "corruption_matrix = np.ones((200,200)) # these are the weights for class change\n",
    "# set diagonal to zero\n",
    "np.fill_diagonal(corruption_matrix, 0)\n",
    "\n",
    "predictions = corruption_fn(df, condition, corruption_matrix, corruption_prob=0.01)\n",
    "df['pred']=predictions"
   ]
  },
  {
   "cell_type": "code",
   "execution_count": 19,
   "id": "6b6c0138-33a2-4641-8e3a-0fd7db50b9d4",
   "metadata": {},
   "outputs": [
    {
     "data": {
      "text/plain": [
       "array([ 2,  1,  1,  1,  1,  1,  3,  3,  1,  1,  1,  3,  2,  1,  4,  3,  1,\n",
       "        2,  1, 24,  1,  2,  1,  1,  6,  1,  2,  2,  1,  5,  1,  2,  2,  1,\n",
       "        1,  1,  2,  1,  1,  2,  3,  1,  1,  2,  1,  2,  2,  1,  2,  1,  1,\n",
       "        2,  1,  2,  2,  1,  3,  3,  1,  3,  2,  1,  4,  1,  2,  1,  3,  2,\n",
       "        1,  1,  1,  2,  1,  1,  2,  4,  3,  2,  3,  3,  1,  2,  2,  2,  2,\n",
       "        2,  2,  2,  2,  1,  2,  1,  2,  3,  1,  1,  3,  2,  1,  1,  1,  1,\n",
       "        4,  2,  1,  1,  1,  1,  1,  1,  1,  1,  1,  2,  2,  2,  1,  2,  1,\n",
       "        3,  1,  3,  3,  1,  2,  3,  2,  1,  3,  7,  1,  1,  4,  1,  4,  4,\n",
       "        1,  3,  3,  1,  1,  3,  4,  1,  2,  3,  2,  3,  1,  1,  2,  1,  5,\n",
       "        5,  2,  3])"
      ]
     },
     "execution_count": 19,
     "metadata": {},
     "output_type": "execute_result"
    }
   ],
   "source": [
    "df[df['pred'] != df['gt']].groupby(['gt']).count()['gt_code'].values"
   ]
  },
  {
   "cell_type": "code",
   "execution_count": 20,
   "id": "c95b456c-316f-446b-8654-00405f6ccf5a",
   "metadata": {},
   "outputs": [],
   "source": [
    "with open('mock_data/demo_pred_splits/split_0_goose_sketch.txt', 'w') as f:\n",
    "    for pred in predictions:\n",
    "        f.write(f'{pred}\\n')"
   ]
  },
  {
   "cell_type": "code",
   "execution_count": null,
   "id": "98106fa0-143e-49a7-8ee1-358ed01a4715",
   "metadata": {},
   "outputs": [],
   "source": []
  }
 ],
 "metadata": {
  "kernelspec": {
   "display_name": "Python 3 (ipykernel)",
   "language": "python",
   "name": "python3"
  },
  "language_info": {
   "codemirror_mode": {
    "name": "ipython",
    "version": 3
   },
   "file_extension": ".py",
   "mimetype": "text/x-python",
   "name": "python",
   "nbconvert_exporter": "python",
   "pygments_lexer": "ipython3",
   "version": "3.10.15"
  }
 },
 "nbformat": 4,
 "nbformat_minor": 5
}
